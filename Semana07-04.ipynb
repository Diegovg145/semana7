{
 "cells": [
  {
   "cell_type": "markdown",
   "id": "58fb6a3b",
   "metadata": {},
   "source": [
    "# Semana 07\n",
    "Diego vega\n",
    "Temas:\n",
    "1.Numeros,\n",
    "2.Variables,\n",
    "3.Manejo de cadenas,\n",
    "4.Ingreso de datos por teclado,\n",
    "5.Operadores,"
   ]
  },
  {
   "cell_type": "code",
   "execution_count": 14,
   "id": "463efce6",
   "metadata": {},
   "outputs": [],
   "source": [
    "#usa del .format()\n",
    "nombre= \"Diego Vega\"\n",
    "edad = 20\n",
    "dni = \"72885455\"\n",
    "\n",
    "print =('hola, soy {} y tengo {} años. Mi dni es {}'.format(nombre, edad, dni))"
   ]
  }
 ],
 "metadata": {
  "kernelspec": {
   "display_name": "Python 3 (ipykernel)",
   "language": "python",
   "name": "python3"
  },
  "language_info": {
   "codemirror_mode": {
    "name": "ipython",
    "version": 3
   },
   "file_extension": ".py",
   "mimetype": "text/x-python",
   "name": "python",
   "nbconvert_exporter": "python",
   "pygments_lexer": "ipython3",
   "version": "3.9.12"
  }
 },
 "nbformat": 4,
 "nbformat_minor": 5
}
